{
 "cells": [
  {
   "cell_type": "markdown",
   "id": "cc2fdca4",
   "metadata": {},
   "source": [
    "ANSWER 1.\n",
    "`expression\n",
    "`values\n",
    "`values\n",
    "`expression\n",
    "`expression\n",
    "`expesssion\n",
    "`values"
   ]
  },
  {
   "cell_type": "markdown",
   "id": "23d7bed2",
   "metadata": {},
   "source": [
    "ANSWER 2.\n",
    "Variable is an element which can change values,therfore can be assigned different values.\n",
    "String is a value and is enclose with \" \" or ' '"
   ]
  },
  {
   "cell_type": "markdown",
   "id": "148d8976",
   "metadata": {},
   "source": [
    "ANSWER3.There are many of them, but basic three are:\n",
    "    STRING\n",
    "    INTEGER\n",
    "    BOOLEAN\n",
    "    COMPLEX\n",
    "   ```` ETC"
   ]
  },
  {
   "cell_type": "markdown",
   "id": "4185df38",
   "metadata": {},
   "source": [
    "ANSWER4.EXPRESSION ARE SOME KIND OF SYMBOLS USED TO DO A SPECIFIC OPERATIONS."
   ]
  },
  {
   "cell_type": "markdown",
   "id": "7a13566f",
   "metadata": {},
   "source": [
    "ANSWER5.EXPRESSION IS THAT SOMETHING IS EQUAL TO SOMETHING,\n",
    "STATEMENT IS PARTICULAR- THAT, spam=10"
   ]
  },
  {
   "cell_type": "markdown",
   "id": "620f655c",
   "metadata": {},
   "source": [
    "ANSWER6.22"
   ]
  },
  {
   "cell_type": "markdown",
   "id": "9c9a81a1",
   "metadata": {},
   "source": [
    "ANSWER7.spamspamspam\n",
    "        spamspamspam"
   ]
  },
  {
   "cell_type": "markdown",
   "id": "3f015df8",
   "metadata": {},
   "source": [
    "ANSWER8.BECAUSE 100 is an integer it cannot change itself,it cannot have any other value"
   ]
  },
  {
   "cell_type": "code",
   "execution_count": 5,
   "id": "6fb457de",
   "metadata": {},
   "outputs": [
    {
     "name": "stdout",
     "output_type": "stream",
     "text": [
      "type an integer3\n",
      "24\n"
     ]
    }
   ],
   "source": [
    "#ANSWER 9.\n",
    "#INTEGER-giving eight times the integer provided\n",
    "a=int(input(\"type an integer\"))\n",
    "print(a*8)"
   ]
  },
  {
   "cell_type": "code",
   "execution_count": 6,
   "id": "0fb9a4a2",
   "metadata": {},
   "outputs": [
    {
     "name": "stdout",
     "output_type": "stream",
     "text": [
      "type an integer between 1,100034\n",
      "0.0011333333333333334\n"
     ]
    }
   ],
   "source": [
    "#giving floating point no:\n",
    "a=int(input(\"type an integer between 1,1000\"))\n",
    "print(a/30000)\n"
   ]
  },
  {
   "cell_type": "markdown",
   "id": "b403778f",
   "metadata": {},
   "source": [
    "ANSWER10.because we cannot add to different types of values"
   ]
  }
 ],
 "metadata": {
  "kernelspec": {
   "display_name": "Python 3",
   "language": "python",
   "name": "python3"
  },
  "language_info": {
   "codemirror_mode": {
    "name": "ipython",
    "version": 3
   },
   "file_extension": ".py",
   "mimetype": "text/x-python",
   "name": "python",
   "nbconvert_exporter": "python",
   "pygments_lexer": "ipython3",
   "version": "3.8.8"
  }
 },
 "nbformat": 4,
 "nbformat_minor": 5
}
